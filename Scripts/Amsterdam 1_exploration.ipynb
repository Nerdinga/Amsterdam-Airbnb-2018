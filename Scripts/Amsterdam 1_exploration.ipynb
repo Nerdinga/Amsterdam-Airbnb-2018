{
 "cells": [
  {
   "cell_type": "markdown",
   "id": "3928b51c-2406-4087-92e7-63f43b4c26b8",
   "metadata": {},
   "source": [
    "# 01. Importing libraries"
   ]
  },
  {
   "cell_type": "code",
   "execution_count": 3,
   "id": "e1258c8c-d246-4275-9bbb-cf935554c0d0",
   "metadata": {},
   "outputs": [],
   "source": [
    "#Import libraries\n",
    "import pandas as pd\n",
    "import numpy as np\n",
    "import os"
   ]
  },
  {
   "cell_type": "markdown",
   "id": "814370fd-d245-4696-af3e-edfc8ac8f4c2",
   "metadata": {},
   "source": [
    "# 02. Importing data"
   ]
  },
  {
   "cell_type": "code",
   "execution_count": 5,
   "id": "3d66414b-489c-4214-9657-667ec7652625",
   "metadata": {},
   "outputs": [],
   "source": [
    "path = r'/Users/user/Documents/Data analysis/E6 Dashboards/Data'"
   ]
  },
  {
   "cell_type": "code",
   "execution_count": 6,
   "id": "04cdb5cb-009c-4aa1-b7c7-5e72bbd54a21",
   "metadata": {},
   "outputs": [],
   "source": [
    "datacal = pd.read_csv(os.path.join(path, 'Original data', 'calendar.csv'))\n"
   ]
  },
  {
   "cell_type": "code",
   "execution_count": 7,
   "id": "f0295d05-c50d-4526-ac61-da618754530f",
   "metadata": {},
   "outputs": [],
   "source": [
    "datalis = pd.read_csv(os.path.join(path, 'Original data', 'listings.csv'))"
   ]
  },
  {
   "cell_type": "markdown",
   "id": "5b57a945-8ad5-4acb-ab8c-b350bc4bf7ea",
   "metadata": {},
   "source": [
    "# 03. Exploring data"
   ]
  },
  {
   "cell_type": "code",
   "execution_count": 9,
   "id": "212240b1-46ec-47bb-85a9-a6eac7beec09",
   "metadata": {},
   "outputs": [
    {
     "data": {
      "text/html": [
       "<div>\n",
       "<style scoped>\n",
       "    .dataframe tbody tr th:only-of-type {\n",
       "        vertical-align: middle;\n",
       "    }\n",
       "\n",
       "    .dataframe tbody tr th {\n",
       "        vertical-align: top;\n",
       "    }\n",
       "\n",
       "    .dataframe thead th {\n",
       "        text-align: right;\n",
       "    }\n",
       "</style>\n",
       "<table border=\"1\" class=\"dataframe\">\n",
       "  <thead>\n",
       "    <tr style=\"text-align: right;\">\n",
       "      <th></th>\n",
       "      <th>listing_id</th>\n",
       "      <th>date</th>\n",
       "      <th>available</th>\n",
       "      <th>price</th>\n",
       "    </tr>\n",
       "  </thead>\n",
       "  <tbody>\n",
       "    <tr>\n",
       "      <th>0</th>\n",
       "      <td>2818</td>\n",
       "      <td>2019-12-05</td>\n",
       "      <td>f</td>\n",
       "      <td>NaN</td>\n",
       "    </tr>\n",
       "    <tr>\n",
       "      <th>1</th>\n",
       "      <td>73208</td>\n",
       "      <td>2019-08-30</td>\n",
       "      <td>f</td>\n",
       "      <td>NaN</td>\n",
       "    </tr>\n",
       "    <tr>\n",
       "      <th>2</th>\n",
       "      <td>73208</td>\n",
       "      <td>2019-08-29</td>\n",
       "      <td>f</td>\n",
       "      <td>NaN</td>\n",
       "    </tr>\n",
       "    <tr>\n",
       "      <th>3</th>\n",
       "      <td>73208</td>\n",
       "      <td>2019-08-28</td>\n",
       "      <td>f</td>\n",
       "      <td>NaN</td>\n",
       "    </tr>\n",
       "    <tr>\n",
       "      <th>4</th>\n",
       "      <td>73208</td>\n",
       "      <td>2019-08-27</td>\n",
       "      <td>f</td>\n",
       "      <td>NaN</td>\n",
       "    </tr>\n",
       "  </tbody>\n",
       "</table>\n",
       "</div>"
      ],
      "text/plain": [
       "   listing_id        date available price\n",
       "0        2818  2019-12-05         f   NaN\n",
       "1       73208  2019-08-30         f   NaN\n",
       "2       73208  2019-08-29         f   NaN\n",
       "3       73208  2019-08-28         f   NaN\n",
       "4       73208  2019-08-27         f   NaN"
      ]
     },
     "execution_count": 9,
     "metadata": {},
     "output_type": "execute_result"
    }
   ],
   "source": [
    "# Starting with Calendar data\n",
    "datacal.head()"
   ]
  },
  {
   "cell_type": "code",
   "execution_count": 10,
   "id": "8f977aa1-3d0a-4cd7-a58a-b1e72267c105",
   "metadata": {},
   "outputs": [
    {
     "name": "stdout",
     "output_type": "stream",
     "text": [
      "<class 'pandas.core.frame.DataFrame'>\n",
      "RangeIndex: 7310950 entries, 0 to 7310949\n",
      "Data columns (total 4 columns):\n",
      " #   Column      Dtype \n",
      "---  ------      ----- \n",
      " 0   listing_id  int64 \n",
      " 1   date        object\n",
      " 2   available   object\n",
      " 3   price       object\n",
      "dtypes: int64(1), object(3)\n",
      "memory usage: 223.1+ MB\n",
      "None\n"
     ]
    }
   ],
   "source": [
    "print(datacal.info())"
   ]
  },
  {
   "cell_type": "code",
   "execution_count": 11,
   "id": "89e414c8-16ab-4768-8dbc-ebdf999fa896",
   "metadata": {},
   "outputs": [
    {
     "name": "stdout",
     "output_type": "stream",
     "text": [
      "listing_id          0\n",
      "date                0\n",
      "available           0\n",
      "price         6110879\n",
      "dtype: int64\n"
     ]
    }
   ],
   "source": [
    "print(datacal.isnull().sum())"
   ]
  },
  {
   "cell_type": "code",
   "execution_count": 12,
   "id": "d87bdbaf-d56c-404f-ad0e-49b545051f0d",
   "metadata": {},
   "outputs": [
    {
     "name": "stdout",
     "output_type": "stream",
     "text": [
      "Exact duplicate rows: 0\n"
     ]
    }
   ],
   "source": [
    "print(\"Exact duplicate rows:\", datacal.duplicated().sum())"
   ]
  },
  {
   "cell_type": "code",
   "execution_count": 13,
   "id": "0e9e03fe-d9ae-4ec5-b855-054af7118038",
   "metadata": {},
   "outputs": [],
   "source": [
    "#Converting data type\n",
    "datacal['date'] = pd.to_datetime(datacal['date'])\n",
    "datacal['available'] = datacal['available'].astype('bool')\n",
    "datacal['price'] = datacal['price'].str.lstrip('$')"
   ]
  },
  {
   "cell_type": "code",
   "execution_count": 14,
   "id": "58908364-94a1-4b12-8438-1c36ea4040c3",
   "metadata": {},
   "outputs": [
    {
     "data": {
      "text/html": [
       "<div>\n",
       "<style scoped>\n",
       "    .dataframe tbody tr th:only-of-type {\n",
       "        vertical-align: middle;\n",
       "    }\n",
       "\n",
       "    .dataframe tbody tr th {\n",
       "        vertical-align: top;\n",
       "    }\n",
       "\n",
       "    .dataframe thead th {\n",
       "        text-align: right;\n",
       "    }\n",
       "</style>\n",
       "<table border=\"1\" class=\"dataframe\">\n",
       "  <thead>\n",
       "    <tr style=\"text-align: right;\">\n",
       "      <th></th>\n",
       "      <th>listing_id</th>\n",
       "      <th>date</th>\n",
       "      <th>available</th>\n",
       "      <th>price</th>\n",
       "    </tr>\n",
       "  </thead>\n",
       "  <tbody>\n",
       "    <tr>\n",
       "      <th>0</th>\n",
       "      <td>2818</td>\n",
       "      <td>2019-12-05</td>\n",
       "      <td>True</td>\n",
       "      <td>NaN</td>\n",
       "    </tr>\n",
       "    <tr>\n",
       "      <th>1</th>\n",
       "      <td>73208</td>\n",
       "      <td>2019-08-30</td>\n",
       "      <td>True</td>\n",
       "      <td>NaN</td>\n",
       "    </tr>\n",
       "    <tr>\n",
       "      <th>2</th>\n",
       "      <td>73208</td>\n",
       "      <td>2019-08-29</td>\n",
       "      <td>True</td>\n",
       "      <td>NaN</td>\n",
       "    </tr>\n",
       "    <tr>\n",
       "      <th>3</th>\n",
       "      <td>73208</td>\n",
       "      <td>2019-08-28</td>\n",
       "      <td>True</td>\n",
       "      <td>NaN</td>\n",
       "    </tr>\n",
       "    <tr>\n",
       "      <th>4</th>\n",
       "      <td>73208</td>\n",
       "      <td>2019-08-27</td>\n",
       "      <td>True</td>\n",
       "      <td>NaN</td>\n",
       "    </tr>\n",
       "    <tr>\n",
       "      <th>...</th>\n",
       "      <td>...</td>\n",
       "      <td>...</td>\n",
       "      <td>...</td>\n",
       "      <td>...</td>\n",
       "    </tr>\n",
       "    <tr>\n",
       "      <th>255</th>\n",
       "      <td>255809</td>\n",
       "      <td>2019-08-30</td>\n",
       "      <td>True</td>\n",
       "      <td>150.00</td>\n",
       "    </tr>\n",
       "    <tr>\n",
       "      <th>256</th>\n",
       "      <td>255809</td>\n",
       "      <td>2019-08-29</td>\n",
       "      <td>True</td>\n",
       "      <td>150.00</td>\n",
       "    </tr>\n",
       "    <tr>\n",
       "      <th>257</th>\n",
       "      <td>255809</td>\n",
       "      <td>2019-08-28</td>\n",
       "      <td>True</td>\n",
       "      <td>150.00</td>\n",
       "    </tr>\n",
       "    <tr>\n",
       "      <th>258</th>\n",
       "      <td>255809</td>\n",
       "      <td>2019-08-27</td>\n",
       "      <td>True</td>\n",
       "      <td>150.00</td>\n",
       "    </tr>\n",
       "    <tr>\n",
       "      <th>259</th>\n",
       "      <td>255809</td>\n",
       "      <td>2019-08-26</td>\n",
       "      <td>True</td>\n",
       "      <td>150.00</td>\n",
       "    </tr>\n",
       "  </tbody>\n",
       "</table>\n",
       "<p>260 rows × 4 columns</p>\n",
       "</div>"
      ],
      "text/plain": [
       "     listing_id       date  available   price\n",
       "0          2818 2019-12-05       True     NaN\n",
       "1         73208 2019-08-30       True     NaN\n",
       "2         73208 2019-08-29       True     NaN\n",
       "3         73208 2019-08-28       True     NaN\n",
       "4         73208 2019-08-27       True     NaN\n",
       "..          ...        ...        ...     ...\n",
       "255      255809 2019-08-30       True  150.00\n",
       "256      255809 2019-08-29       True  150.00\n",
       "257      255809 2019-08-28       True  150.00\n",
       "258      255809 2019-08-27       True  150.00\n",
       "259      255809 2019-08-26       True  150.00\n",
       "\n",
       "[260 rows x 4 columns]"
      ]
     },
     "execution_count": 14,
     "metadata": {},
     "output_type": "execute_result"
    }
   ],
   "source": [
    "datacal.head(260)"
   ]
  },
  {
   "cell_type": "code",
   "execution_count": 15,
   "id": "b96dd194-1df2-4a18-a1df-904830287679",
   "metadata": {},
   "outputs": [
    {
     "name": "stdout",
     "output_type": "stream",
     "text": [
      "<class 'pandas.core.frame.DataFrame'>\n",
      "RangeIndex: 7310950 entries, 0 to 7310949\n",
      "Data columns (total 4 columns):\n",
      " #   Column      Dtype         \n",
      "---  ------      -----         \n",
      " 0   listing_id  int64         \n",
      " 1   date        datetime64[ns]\n",
      " 2   available   bool          \n",
      " 3   price       object        \n",
      "dtypes: bool(1), datetime64[ns](1), int64(1), object(1)\n",
      "memory usage: 174.3+ MB\n",
      "None\n"
     ]
    }
   ],
   "source": [
    "#Making sure date is sucessfully converted to correct data type\n",
    "print(datacal.info())"
   ]
  },
  {
   "cell_type": "code",
   "execution_count": 16,
   "id": "20837d86-3a35-4c95-80c8-127ff16f8c1b",
   "metadata": {},
   "outputs": [
    {
     "data": {
      "text/html": [
       "<div>\n",
       "<style scoped>\n",
       "    .dataframe tbody tr th:only-of-type {\n",
       "        vertical-align: middle;\n",
       "    }\n",
       "\n",
       "    .dataframe tbody tr th {\n",
       "        vertical-align: top;\n",
       "    }\n",
       "\n",
       "    .dataframe thead th {\n",
       "        text-align: right;\n",
       "    }\n",
       "</style>\n",
       "<table border=\"1\" class=\"dataframe\">\n",
       "  <thead>\n",
       "    <tr style=\"text-align: right;\">\n",
       "      <th></th>\n",
       "      <th>id</th>\n",
       "      <th>name</th>\n",
       "      <th>host_id</th>\n",
       "      <th>host_name</th>\n",
       "      <th>neighbourhood_group</th>\n",
       "      <th>neighbourhood</th>\n",
       "      <th>latitude</th>\n",
       "      <th>longitude</th>\n",
       "      <th>room_type</th>\n",
       "      <th>price</th>\n",
       "      <th>minimum_nights</th>\n",
       "      <th>number_of_reviews</th>\n",
       "      <th>last_review</th>\n",
       "      <th>reviews_per_month</th>\n",
       "      <th>calculated_host_listings_count</th>\n",
       "      <th>availability_365</th>\n",
       "    </tr>\n",
       "  </thead>\n",
       "  <tbody>\n",
       "    <tr>\n",
       "      <th>0</th>\n",
       "      <td>2818</td>\n",
       "      <td>Quiet Garden View Room &amp; Super Fast WiFi</td>\n",
       "      <td>3159</td>\n",
       "      <td>Daniel</td>\n",
       "      <td>NaN</td>\n",
       "      <td>Oostelijk Havengebied - Indische Buurt</td>\n",
       "      <td>52.365755</td>\n",
       "      <td>4.941419</td>\n",
       "      <td>Private room</td>\n",
       "      <td>59</td>\n",
       "      <td>3</td>\n",
       "      <td>248</td>\n",
       "      <td>2018-11-28</td>\n",
       "      <td>2.10</td>\n",
       "      <td>1</td>\n",
       "      <td>44</td>\n",
       "    </tr>\n",
       "    <tr>\n",
       "      <th>1</th>\n",
       "      <td>3209</td>\n",
       "      <td>Quiet apt near center, great view</td>\n",
       "      <td>3806</td>\n",
       "      <td>Maartje</td>\n",
       "      <td>NaN</td>\n",
       "      <td>Westerpark</td>\n",
       "      <td>52.390225</td>\n",
       "      <td>4.873924</td>\n",
       "      <td>Entire home/apt</td>\n",
       "      <td>160</td>\n",
       "      <td>4</td>\n",
       "      <td>42</td>\n",
       "      <td>2018-08-29</td>\n",
       "      <td>1.03</td>\n",
       "      <td>1</td>\n",
       "      <td>47</td>\n",
       "    </tr>\n",
       "    <tr>\n",
       "      <th>2</th>\n",
       "      <td>20168</td>\n",
       "      <td>100%Centre-Studio 1 Private Floor/Bathroom</td>\n",
       "      <td>59484</td>\n",
       "      <td>Alex</td>\n",
       "      <td>NaN</td>\n",
       "      <td>Centrum-Oost</td>\n",
       "      <td>52.365087</td>\n",
       "      <td>4.893541</td>\n",
       "      <td>Entire home/apt</td>\n",
       "      <td>80</td>\n",
       "      <td>1</td>\n",
       "      <td>233</td>\n",
       "      <td>2018-11-30</td>\n",
       "      <td>2.18</td>\n",
       "      <td>2</td>\n",
       "      <td>198</td>\n",
       "    </tr>\n",
       "    <tr>\n",
       "      <th>3</th>\n",
       "      <td>25428</td>\n",
       "      <td>Lovely apt in City Centre (Jordaan)</td>\n",
       "      <td>56142</td>\n",
       "      <td>Joan</td>\n",
       "      <td>NaN</td>\n",
       "      <td>Centrum-West</td>\n",
       "      <td>52.373114</td>\n",
       "      <td>4.883668</td>\n",
       "      <td>Entire home/apt</td>\n",
       "      <td>125</td>\n",
       "      <td>14</td>\n",
       "      <td>1</td>\n",
       "      <td>2018-01-21</td>\n",
       "      <td>0.09</td>\n",
       "      <td>2</td>\n",
       "      <td>141</td>\n",
       "    </tr>\n",
       "    <tr>\n",
       "      <th>4</th>\n",
       "      <td>27886</td>\n",
       "      <td>Romantic, stylish B&amp;B houseboat in canal district</td>\n",
       "      <td>97647</td>\n",
       "      <td>Flip</td>\n",
       "      <td>NaN</td>\n",
       "      <td>Centrum-West</td>\n",
       "      <td>52.386727</td>\n",
       "      <td>4.892078</td>\n",
       "      <td>Private room</td>\n",
       "      <td>150</td>\n",
       "      <td>2</td>\n",
       "      <td>171</td>\n",
       "      <td>2018-11-25</td>\n",
       "      <td>2.03</td>\n",
       "      <td>1</td>\n",
       "      <td>199</td>\n",
       "    </tr>\n",
       "  </tbody>\n",
       "</table>\n",
       "</div>"
      ],
      "text/plain": [
       "      id                                               name  host_id  \\\n",
       "0   2818           Quiet Garden View Room & Super Fast WiFi     3159   \n",
       "1   3209                  Quiet apt near center, great view     3806   \n",
       "2  20168         100%Centre-Studio 1 Private Floor/Bathroom    59484   \n",
       "3  25428                Lovely apt in City Centre (Jordaan)    56142   \n",
       "4  27886  Romantic, stylish B&B houseboat in canal district    97647   \n",
       "\n",
       "  host_name  neighbourhood_group                           neighbourhood  \\\n",
       "0    Daniel                  NaN  Oostelijk Havengebied - Indische Buurt   \n",
       "1   Maartje                  NaN                              Westerpark   \n",
       "2      Alex                  NaN                            Centrum-Oost   \n",
       "3      Joan                  NaN                            Centrum-West   \n",
       "4      Flip                  NaN                            Centrum-West   \n",
       "\n",
       "    latitude  longitude        room_type  price  minimum_nights  \\\n",
       "0  52.365755   4.941419     Private room     59               3   \n",
       "1  52.390225   4.873924  Entire home/apt    160               4   \n",
       "2  52.365087   4.893541  Entire home/apt     80               1   \n",
       "3  52.373114   4.883668  Entire home/apt    125              14   \n",
       "4  52.386727   4.892078     Private room    150               2   \n",
       "\n",
       "   number_of_reviews last_review  reviews_per_month  \\\n",
       "0                248  2018-11-28               2.10   \n",
       "1                 42  2018-08-29               1.03   \n",
       "2                233  2018-11-30               2.18   \n",
       "3                  1  2018-01-21               0.09   \n",
       "4                171  2018-11-25               2.03   \n",
       "\n",
       "   calculated_host_listings_count  availability_365  \n",
       "0                               1                44  \n",
       "1                               1                47  \n",
       "2                               2               198  \n",
       "3                               2               141  \n",
       "4                               1               199  "
      ]
     },
     "execution_count": 16,
     "metadata": {},
     "output_type": "execute_result"
    }
   ],
   "source": [
    "# Continuing with Listings data\n",
    "datalis.head()"
   ]
  },
  {
   "cell_type": "code",
   "execution_count": 17,
   "id": "d83f019d-657a-4b86-aae2-ba550b700df3",
   "metadata": {},
   "outputs": [],
   "source": [
    "# Dropping unnecesary columns\n",
    "datalis_rev = datalis.drop(columns = ['name', 'host_name', 'neighbourhood_group', 'last_review'])"
   ]
  },
  {
   "cell_type": "code",
   "execution_count": 18,
   "id": "8db63bce-baf0-479e-a045-27db032687b8",
   "metadata": {},
   "outputs": [
    {
     "name": "stdout",
     "output_type": "stream",
     "text": [
      "<class 'pandas.core.frame.DataFrame'>\n",
      "RangeIndex: 20030 entries, 0 to 20029\n",
      "Data columns (total 12 columns):\n",
      " #   Column                          Non-Null Count  Dtype  \n",
      "---  ------                          --------------  -----  \n",
      " 0   id                              20030 non-null  int64  \n",
      " 1   host_id                         20030 non-null  int64  \n",
      " 2   neighbourhood                   20030 non-null  object \n",
      " 3   latitude                        20030 non-null  float64\n",
      " 4   longitude                       20030 non-null  float64\n",
      " 5   room_type                       20030 non-null  object \n",
      " 6   price                           20030 non-null  int64  \n",
      " 7   minimum_nights                  20030 non-null  int64  \n",
      " 8   number_of_reviews               20030 non-null  int64  \n",
      " 9   reviews_per_month               17624 non-null  float64\n",
      " 10  calculated_host_listings_count  20030 non-null  int64  \n",
      " 11  availability_365                20030 non-null  int64  \n",
      "dtypes: float64(3), int64(7), object(2)\n",
      "memory usage: 1.8+ MB\n",
      "None\n"
     ]
    }
   ],
   "source": [
    "print(datalis_rev.info())"
   ]
  },
  {
   "cell_type": "code",
   "execution_count": 19,
   "id": "918c74db-1bf9-4598-baa3-ebdc4521fe57",
   "metadata": {},
   "outputs": [
    {
     "name": "stdout",
     "output_type": "stream",
     "text": [
      "Exact duplicate rows: 0\n"
     ]
    }
   ],
   "source": [
    "print(\"Exact duplicate rows:\", datalis_rev.duplicated().sum())"
   ]
  },
  {
   "cell_type": "code",
   "execution_count": 20,
   "id": "a123a6e7-0b15-4885-8be9-f241f55c94b3",
   "metadata": {
    "scrolled": true
   },
   "outputs": [
    {
     "name": "stdout",
     "output_type": "stream",
     "text": [
      "id                                   0\n",
      "host_id                              0\n",
      "neighbourhood                        0\n",
      "latitude                             0\n",
      "longitude                            0\n",
      "room_type                            0\n",
      "price                                0\n",
      "minimum_nights                       0\n",
      "number_of_reviews                    0\n",
      "reviews_per_month                 2406\n",
      "calculated_host_listings_count       0\n",
      "availability_365                     0\n",
      "dtype: int64\n"
     ]
    }
   ],
   "source": [
    "print(datalis_rev.isnull().sum())"
   ]
  },
  {
   "cell_type": "markdown",
   "id": "adf93300-a511-4e3b-a002-fbbd40dbab9e",
   "metadata": {},
   "source": [
    "# 04. Exporting data"
   ]
  },
  {
   "cell_type": "code",
   "execution_count": 22,
   "id": "ac549124-34c1-441e-90f0-a297c5816980",
   "metadata": {},
   "outputs": [],
   "source": [
    "datacal.to_csv(os.path.join(path, 'Cleaned data', 'calendar_rev.csv'))"
   ]
  },
  {
   "cell_type": "code",
   "execution_count": 23,
   "id": "adb1597c-2770-4999-97c8-21b62aa3afdb",
   "metadata": {},
   "outputs": [],
   "source": [
    "datalis_rev.to_csv(os.path.join(path, 'Cleaned data', 'listings_rev.csv'))"
   ]
  }
 ],
 "metadata": {
  "kernelspec": {
   "display_name": "Python [conda env:base] *",
   "language": "python",
   "name": "conda-base-py"
  },
  "language_info": {
   "codemirror_mode": {
    "name": "ipython",
    "version": 3
   },
   "file_extension": ".py",
   "mimetype": "text/x-python",
   "name": "python",
   "nbconvert_exporter": "python",
   "pygments_lexer": "ipython3",
   "version": "3.10.18"
  }
 },
 "nbformat": 4,
 "nbformat_minor": 5
}
